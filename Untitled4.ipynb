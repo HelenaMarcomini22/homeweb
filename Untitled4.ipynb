{
  "nbformat": 4,
  "nbformat_minor": 0,
  "metadata": {
    "colab": {
      "provenance": [],
      "authorship_tag": "ABX9TyNs6JKg8UPqnNU6JKhzrtsK",
      "include_colab_link": true
    },
    "kernelspec": {
      "name": "python3",
      "display_name": "Python 3"
    },
    "language_info": {
      "name": "python"
    }
  },
  "cells": [
    {
      "cell_type": "markdown",
      "metadata": {
        "id": "view-in-github",
        "colab_type": "text"
      },
      "source": [
        "<a href=\"https://colab.research.google.com/github/HelenaMarcomini22/homeweb/blob/main/Untitled4.ipynb\" target=\"_parent\"><img src=\"https://colab.research.google.com/assets/colab-badge.svg\" alt=\"Open In Colab\"/></a>"
      ]
    },
    {
      "cell_type": "code",
      "source": [
        "from IPython import get_ipython\n",
        "from IPython.display import display"
      ],
      "metadata": {
        "id": "j5xQdPQHua66"
      },
      "execution_count": 9,
      "outputs": []
    },
    {
      "cell_type": "code",
      "source": [
        "%pip -q install google-genai"
      ],
      "metadata": {
        "id": "LbjY_R-xuw7A"
      },
      "execution_count": 10,
      "outputs": []
    },
    {
      "cell_type": "code",
      "source": [
        "import os\n",
        "from google.colab import userdata\n",
        "os.environ[\"GOOGLE_API_KEY\"] = userdata.get('GOOGLE_API_KEY')"
      ],
      "metadata": {
        "id": "PZOqrNC8u9TN"
      },
      "execution_count": 11,
      "outputs": []
    },
    {
      "cell_type": "code",
      "source": [
        "from google import genai\n",
        "client = genai.Client()\n",
        "Model_id = \"gemini-2.0-flash\""
      ],
      "metadata": {
        "id": "cpQfr0dUvfG_"
      },
      "execution_count": 12,
      "outputs": []
    },
    {
      "cell_type": "code",
      "source": [
        "from IPython.display import HTML, Markdown\n",
        "response = client.models.generate_content(\n",
        "    model=Model_id,\n",
        "    contents='Qual é o valor da arroba do boi hoje no Brasil?',\n",
        "    config={\"tools\": [{\"google_search\":{}}]}\n",
        ")\n",
        "display(Markdown(f\"Resposta:\\n {response.text}\"))"
      ],
      "metadata": {
        "id": "lfDe8cGIwkiZ"
      },
      "execution_count": null,
      "outputs": []
    },
    {
      "cell_type": "code",
      "source": [
        "print(f\"Busca realizada: {response.candidates[0].grounding_metadata.web_search_queries}\")\n",
        "print(f\"Páginas utilizadas na resposta: {', '.join([site.web.title for site in response.candidates[0].grounding_metadata.grounding_chunks])}\")\n",
        "print()\n",
        "display(HTML(response.candidates[0].grounding_metadata.search_entry_point.rendered_content))\n"
      ],
      "metadata": {
        "id": "vUuHmeebyvHe"
      },
      "execution_count": null,
      "outputs": []
    },
    {
      "cell_type": "code",
      "source": [
        "!pip install -q google-adk"
      ],
      "metadata": {
        "id": "g7FjwA_0zfOR"
      },
      "execution_count": null,
      "outputs": []
    },
    {
      "cell_type": "code",
      "source": [
        "from google.adk.agents import Agent\n",
        "from google.adk.runners import Runner\n",
        "from google.adk.sessions import InMemorySessionService\n",
        "from google.adk.tools import google_search\n",
        "from google.genai import types # Importação de types aqui\n",
        "from datetime import date\n",
        "import textwrap\n",
        "from IPython.display import display, Markdown\n",
        "import requests\n",
        "import warnings\n",
        "\n",
        "warnings.filterwarnings('ignore')"
      ],
      "metadata": {
        "id": "ALhNJjr1z2_X"
      },
      "execution_count": 17,
      "outputs": []
    },
    {
      "cell_type": "code",
      "source": [
        "def call_agent(agent: Agent, message_text: str) -> str:\n",
        " session_service = InMemorySessionService()\n",
        " session = session_service.create_session(app_name=agent.name, user_id=\"user1\", session_id=\"session1\")\n",
        " runner = Runner(agent=agent, app_name=agent.name, session_service=session_service)\n",
        " content = types.Content(role=\"user\", parts=[types.Part(text=message_text)])\n",
        "\n",
        " final_response = \"\"\n",
        "\n",
        " for event in runner.run(user_id=\"user1\", session_id=\"session1\", new_message=content):\n",
        "  if event.is_final_response():\n",
        "   for part in event.content.parts:\n",
        "    if part.text is not None:\n",
        "     final_response += part.text\n",
        "     final_response += \"\\n\"\n",
        " return final_response"
      ],
      "metadata": {
        "id": "VE5vLQZ_0BfL"
      },
      "execution_count": 18,
      "outputs": []
    },
    {
      "cell_type": "code",
      "source": [
        "def to_markdown(text):\n",
        "  text = text.replace('•', '  *')\n",
        "  return Markdown(textwrap.indent(text, '> ', predicate=lambda _: True))"
      ],
      "metadata": {
        "id": "akykt_iQ0PAl"
      },
      "execution_count": 19,
      "outputs": []
    },
    {
      "cell_type": "code",
      "source": [
        "def agente_planejador(topico, lancamentos_buscados):\n",
        "    planejador = Agent(\n",
        "        name=\"PlanejadorDeConteudo\",\n",
        "        model=\"gemini-2.0-flash\",\n",
        "        instruction=\"\"\"\n",
        "        Você é um planejador de conteúdo, especialista em redes sociais com foco no agronegócio.\n",
        "        Com base na lista de lançamentos mais recentes e relevantes buscados, você deve:\n",
        "        usar a ferramenta de busca do Google (google_search) para criar um plano estratégico sobre\n",
        "        quais são os pontos mais relevantes e engajadores que poderíamos abordar em um post conciso\n",
        "        para o LinkedIn sobre cada um deles. Você também pode usar o (google_search) para encontrar mais\n",
        "        informações sobre os temas, dados de mercado e aprofundar a análise.\n",
        "        Ao final, você irá escolher o tema mais relevante e com maior potencial de engajamento\n",
        "        para o público do LinkedIn entre eles com base nas suas pesquisas e no seu conhecimento\n",
        "        do cenário da pecuária. Retorne esse tema de forma clara e concisa, seus principais pontos\n",
        "        de destaque (em formato de tópicos) e um breve plano com os assuntos chave a serem abordados\n",
        "        no post que será escrito posteriormente.\n",
        "        \"\"\",\n",
        "        description=\"Agente especializado em planear posts estratégicos e concisos para o LinkedIn sobre pecuária.\",\n",
        "        tools=[google_search]\n",
        "    )\n",
        "\n",
        "    entrada_do_agente_planejador = f\"Tópico: {topico}\\nLançamentos buscados: {lancamentos_buscados}\"\n",
        "    plano_do_post = call_agent(planejador, entrada_do_agente_planejador)\n",
        "    return plano_do_post\n",
        "\n",
        "def agente_busca_preco(produto=\"arroba do boi\"):\n",
        "    buscador_preco = Agent(\n",
        "        name=\"BuscadorDePrecos\",\n",
        "        model=\"gemini-2.0-flash\",\n",
        "        instruction=f\"\"\"\n",
        "        Você é um especialista em informações de mercado pecuário. Sua principal função é buscar o preço\n",
        "        atualizado de \"{produto}\" utilizando a ferramenta de busca do Google (google_search).\n",
        "        Realize uma busca precisa e retorne o valor encontrado, a data da cotação e a fonte da informação\n",
        "        de forma clara e concisa. Se houver variações regionais significativas, mencione as principais.\n",
        "        \"\"\",\n",
        "        description=\"Agente especializado em buscar o preço atualizado da arroba do boi e outras commodities pecuárias.\",\n",
        "        tools=[google_search]\n",
        "    )\n",
        "    entrada_do_agente_busca_preco = f\"Qual o preço atual de {produto}?\"\n",
        "    preco = call_agent(buscador_preco, entrada_do_agente_busca_preco)\n",
        "    return preco\n",
        "\n",
        "def agente_resumo_noticias(noticias):\n",
        "    resumidor_noticias = Agent(\n",
        "        name=\"ResumidorDeNoticias\",\n",
        "        model=\"gemini-2.0-flash\",\n",
        "        instruction=\"\"\"\n",
        "        Você é um especialista em notícias do setor pecuário. Sua tarefa é receber uma lista de notícias\n",
        "        e produzir resumos concisos e informativos para cada uma delas, destacando os pontos mais relevantes\n",
        "        para o público do setor. Mantenha a objetividade e a clareza nos seus resumos.\n",
        "        \"\"\",\n",
        "        description=\"Agente especializado em resumir notícias e informações relevantes do setor pecuário.\",\n",
        "        tools=[]\n",
        "    )\n",
        "    entrada_do_agente_resumo_noticias = f\"Resuma as seguintes notícias:\\n{noticias}\"\n",
        "    resumos = call_agent(resumidor_noticias, entrada_do_agente_resumo_noticias)\n",
        "    return resumos\n",
        "\n",
        "def agente_curador_linkedin(plano_do_post, resumo_noticia=None):\n",
        "    curador_linkedin = Agent(\n",
        "        name=\"CuradorDeConteudoLinkedIn\",\n",
        "        model=\"gemini-2.0-flash\",\n",
        "        instruction=f\"\"\"\n",
        "        Você é um especialista em criar posts engajadores para o LinkedIn sobre o setor pecuário.\n",
        "        Com base no plano do post fornecido: \"{plano_do_post}\", você deve redigir um post conciso,\n",
        "        informativo e relevante para o público do LinkedIn. Utilize uma linguagem profissional e\n",
        "        engajadora. Se um resumo de notícia relevante for fornecido (\"{resumo_noticia}\"), incorpore-o\n",
        "        de forma natural ao post, conectando os pontos principais com o tema geral. Inclua hashtags relevantes\n",
        "        para aumentar o alcance da publicação. O post deve ser direto e despertar o interesse dos leitores.\n",
        "        \"\"\",\n",
        "        description=\"Agente especializado em criar posts concisos e engajadores para o LinkedIn sobre pecuária.\",\n",
        "        tools=[]\n",
        "    )\n",
        "    entrada_do_agente_curador_linkedin = f\"Plano do Post: {plano_do_post}\\nResumo da Notícia (opcional): {resumo_noticia}\"\n",
        "    post_linkedin = call_agent(curador_linkedin, entrada_do_agente_curador_linkedin)\n",
        "    return post_linkedin\n",
        "\n",
        "\n",
        "noticias_pecuaria = [\"Notícia A sobre alta nos custos de produção.\", \"Notícia B sobre novas tecnologias de pastagem.\", \"Notícia C sobre a influência do clima na produção de carne.\"]\n",
        "\n",
        "\n",
        "resumos_noticias = agente_resumo_noticias(noticias_pecuaria)\n",
        "print(\"Resumos das Notícias:\", resumos_noticias)\n",
        "\n",
        "\n",
        "plano_post = agente_planejador(topico=\"Impacto dos custos de produção na pecuária\", lancamentos_buscados=resumos_noticias)\n",
        "print(\"\\nPlano do Post:\", plano_post)\n",
        "\n",
        "\n",
        "post_linkedin = agente_curador_linkedin(plano_do_post=plano_post, resumo_noticia=resumos_noticias[0])\n",
        "print(\"\\nPost para LinkedIn:\", post_linkedin)\n",
        "\n",
        "\n",
        "preco_arroba = agente_busca_preco()\n",
        "print(\"\\nPreço da Arroba do Boi:\", preco_arroba)"
      ],
      "metadata": {
        "id": "NZ5L3_Ov0QzN"
      },
      "execution_count": null,
      "outputs": []
    },
    {
      "cell_type": "code",
      "source": [
        "!echo \"# Chatboot-Pecu-ria-Connect\" >> README.md\n",
        "!git init\n",
        "!git add README.md\n",
        "!git commit -m \"primeiro commit\"\n",
        "!git branch -M main\n",
        "!git remote add origin https://github.com/HelenaMarcomini22/Chatboot-Pecu-ria-Connect.git\n",
        "!git push -u origin main\n"
      ],
      "metadata": {
        "colab": {
          "base_uri": "https://localhost:8080/"
        },
        "id": "KlvqvLKH98K4",
        "outputId": "a09fa6b1-38d1-42e4-9876-b6e07bee1e9d"
      },
      "execution_count": 23,
      "outputs": [
        {
          "output_type": "stream",
          "name": "stdout",
          "text": [
            "\u001b[33mhint: Using 'master' as the name for the initial branch. This default branch name\u001b[m\n",
            "\u001b[33mhint: is subject to change. To configure the initial branch name to use in all\u001b[m\n",
            "\u001b[33mhint: of your new repositories, which will suppress this warning, call:\u001b[m\n",
            "\u001b[33mhint: \u001b[m\n",
            "\u001b[33mhint: \tgit config --global init.defaultBranch <name>\u001b[m\n",
            "\u001b[33mhint: \u001b[m\n",
            "\u001b[33mhint: Names commonly chosen instead of 'master' are 'main', 'trunk' and\u001b[m\n",
            "\u001b[33mhint: 'development'. The just-created branch can be renamed via this command:\u001b[m\n",
            "\u001b[33mhint: \u001b[m\n",
            "\u001b[33mhint: \tgit branch -m <name>\u001b[m\n",
            "Initialized empty Git repository in /content/.git/\n",
            "Author identity unknown\n",
            "\n",
            "*** Please tell me who you are.\n",
            "\n",
            "Run\n",
            "\n",
            "  git config --global user.email \"you@example.com\"\n",
            "  git config --global user.name \"Your Name\"\n",
            "\n",
            "to set your account's default identity.\n",
            "Omit --global to set the identity only in this repository.\n",
            "\n",
            "fatal: unable to auto-detect email address (got 'root@1c6b51b2cf4e.(none)')\n",
            "error: src refspec main does not match any\n",
            "\u001b[31merror: failed to push some refs to 'https://github.com/HelenaMarcomini22/Chatboot-Pecu-ria-Connect.git'\n",
            "\u001b[m"
          ]
        }
      ]
    }
  ]
}